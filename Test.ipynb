{
 "cells": [
  {
   "cell_type": "code",
   "execution_count": 1,
   "metadata": {},
   "outputs": [],
   "source": [
    "import numpy as np\n",
    "import pandas as pd\n",
    "import matplotlib.pyplot as plt\n",
    "from torch import nn\n",
    "import torch\n",
    "from torch.utils.data import DataLoader, TensorDataset\n",
    "from sklearn.preprocessing import StandardScaler\n",
    "from sklearn.model_selection import train_test_split\n",
    "from sklearn.metrics.pairwise import cosine_similarity"
   ]
  },
  {
   "cell_type": "code",
   "execution_count": 2,
   "metadata": {},
   "outputs": [
    {
     "name": "stderr",
     "output_type": "stream",
     "text": [
      "/Users/anatol/Desktop/Coding/python/AML/venv/lib/python3.12/site-packages/tqdm/auto.py:21: TqdmWarning: IProgress not found. Please update jupyter and ipywidgets. See https://ipywidgets.readthedocs.io/en/stable/user_install.html\n",
      "  from .autonotebook import tqdm as notebook_tqdm\n"
     ]
    },
    {
     "name": "stdout",
     "output_type": "stream",
     "text": [
      "Warning: Looks like you're using an outdated `kagglehub` version (installed: 0.3.7), please consider upgrading to the latest version (0.3.10).\n",
      "Path to dataset files: /Users/anatol/.cache/kagglehub/datasets/ellipticco/elliptic-data-set/versions/1\n"
     ]
    }
   ],
   "source": [
    "## Downloading the database\n",
    "import kagglehub\n",
    "\n",
    "\n",
    "# Download latest version\n",
    "path = kagglehub.dataset_download(\"ellipticco/elliptic-data-set\")\n",
    "\n",
    "print(\"Path to dataset files:\", path)"
   ]
  },
  {
   "cell_type": "code",
   "execution_count": 3,
   "metadata": {},
   "outputs": [
    {
     "name": "stdout",
     "output_type": "stream",
     "text": [
      "        txId    class\n",
      "0  230425980  unknown\n",
      "1    5530458  unknown\n",
      "2  232022460  unknown\n",
      "3  232438397        2\n",
      "4  230460314  unknown\n",
      "\n",
      "   230425980  1  -0.1714692896288031  -0.18466755143291433  \\\n",
      "0    5530458  1            -0.171484             -0.184668   \n",
      "1  232022460  1            -0.172107             -0.184668   \n",
      "2  232438397  1             0.163054              1.963790   \n",
      "3  230460314  1             1.011523             -0.081127   \n",
      "4  230459870  1             0.961040             -0.081127   \n",
      "\n",
      "   -1.2013688016765636  -0.12196959975910057  -0.04387454791734898  \\\n",
      "0            -1.201369             -0.121970             -0.043875   \n",
      "1            -1.201369             -0.121970             -0.043875   \n",
      "2            -0.646376             12.409294             -0.063725   \n",
      "3            -1.201369              1.153668              0.333276   \n",
      "4            -1.201369              1.303743              0.333276   \n",
      "\n",
      "   -0.11300200928476244  -0.06158379407303222  -0.16209679981659642  ...  \\\n",
      "0             -0.113002             -0.061584             -0.162112  ...   \n",
      "1             -0.113002             -0.061584             -0.162749  ...   \n",
      "2              9.782742             12.414558             -0.163645  ...   \n",
      "3              1.312656             -0.061584             -0.163523  ...   \n",
      "4              1.480381             -0.061584             -0.163577  ...   \n",
      "\n",
      "   -0.5621534802884299  -0.6009988905192808  1.4613303209554889  \\\n",
      "0             0.947382             0.673103           -0.979074   \n",
      "1             0.670883             0.439728           -0.979074   \n",
      "2            -0.577099            -0.613614            0.241128   \n",
      "3            -0.511871            -0.400422            0.517257   \n",
      "4            -0.504702            -0.422589           -0.226790   \n",
      "\n",
      "   1.4613689382001922  0.01827940003744589  -0.0874901561101501  \\\n",
      "0           -0.978556             0.018279            -0.087490   \n",
      "1           -0.978556            -0.098889            -0.106715   \n",
      "2            0.241406             1.072793             0.085530   \n",
      "3            0.579382             0.018279             0.277775   \n",
      "4           -0.117629             0.018279             0.277775   \n",
      "\n",
      "   -0.13115530389558736  -0.09752359377152515  -0.12061340670311574  \\\n",
      "0             -0.131155             -0.097524             -0.120613   \n",
      "1             -0.131155             -0.183671             -0.120613   \n",
      "2             -0.131155              0.677799             -0.120613   \n",
      "3              0.326394              1.293750              0.178136   \n",
      "4              0.413931              1.149556             -0.696053   \n",
      "\n",
      "   -0.11979245961251665  \n",
      "0             -0.119792  \n",
      "1             -0.119792  \n",
      "2             -0.119792  \n",
      "3              0.179117  \n",
      "4             -0.695540  \n",
      "\n",
      "[5 rows x 167 columns]\n",
      "\n",
      "       txId1      txId2\n",
      "0  230425980    5530458\n",
      "1  232022460  232438397\n",
      "2  230460314  230459870\n",
      "3  230333930  230595899\n",
      "4  232013274  232029206\n"
     ]
    }
   ],
   "source": [
    "classes_df = pd.read_csv(path + \"/elliptic_bitcoin_dataset/elliptic_txs_classes.csv\")\n",
    "features_df = pd.read_csv(path + \"/elliptic_bitcoin_dataset/elliptic_txs_features.csv\")\n",
    "edge_df = pd.read_csv(path + \"/elliptic_bitcoin_dataset/elliptic_txs_edgelist.csv\")\n",
    "\n",
    "print(classes_df.head(), end=\"\\n\\n\")\n",
    "print(features_df.head(), end=\"\\n\\n\")\n",
    "print(edge_df.head())"
   ]
  },
  {
   "cell_type": "code",
   "execution_count": 4,
   "metadata": {},
   "outputs": [
    {
     "name": "stdout",
     "output_type": "stream",
     "text": [
      "       txId1      txId2\n",
      "0  230425980    5530458\n",
      "1  232022460  232438397\n",
      "2  230460314  230459870\n",
      "3  230333930  230595899\n",
      "4  232013274  232029206\n"
     ]
    }
   ],
   "source": [
    "# print(classes_df.head(), end=\"\\n\\n\")\n",
    "# print(features_df.head(), end=\"\\n\\n\")\n",
    "print(edge_df.head())"
   ]
  },
  {
   "cell_type": "code",
   "execution_count": 5,
   "metadata": {},
   "outputs": [
    {
     "name": "stdout",
     "output_type": "stream",
     "text": [
      "         txId\n",
      "class        \n",
      "3      157205\n",
      "1        4545\n",
      "2       42019\n"
     ]
    },
    {
     "data": {
      "image/png": "[encoded data removed]",
      "text/plain": [
       "<Figure size 640x480 with 1 Axes>"
      ]
     },
     "metadata": {},
     "output_type": "display_data"
    }
   ],
   "source": [
    "classes_df.loc[classes_df['class'] == 'unknown', 'class'] = 3\n",
    "Class_grouby= classes_df.groupby('class').count()\n",
    "values = Class_grouby['txId'].values\n",
    "\n",
    "print(Class_grouby)\n",
    "\n",
    "total =  np.sum(Class_grouby['txId'].values)\n",
    "\n",
    "proc_list = []\n",
    "for i in values:\n",
    "    proc = (i/total)*100\n",
    "    proc = np.round(proc,2)\n",
    "    proc_list.append(proc)\n",
    "\n",
    "plt.bar(['Unknown', 'Ilicit', 'Licit'], values, color=['orange', 'r', 'g'], )\n",
    "for i,v in enumerate(values):\n",
    "    plt.text(i,v/2, str(proc_list[i]), ha= 'center', va = 'center', fontweight = 'bold')\n",
    "plt.show()"
   ]
  },
  {
   "cell_type": "code",
   "execution_count": 6,
   "metadata": {},
   "outputs": [
    {
     "name": "stdout",
     "output_type": "stream",
     "text": [
      "Class dim: (203769, 2)\n",
      "Feature dim: (203768, 167)\n",
      "Edge dim: (234355, 2)\n"
     ]
    }
   ],
   "source": [
    "print(f\"Class dim: {classes_df.shape}\")\n",
    "print(f\"Feature dim: {features_df.shape}\")\n",
    "print(f\"Edge dim: {edge_df.shape}\")"
   ]
  },
  {
   "cell_type": "code",
   "execution_count": 7,
   "metadata": {},
   "outputs": [
    {
     "name": "stdout",
     "output_type": "stream",
     "text": [
      "Data dim: (407410, 168)\n"
     ]
    }
   ],
   "source": [
    "# concatenate the features and classes\n",
    "data = pd.concat([features_df, classes_df.set_index('txId')], axis=1)\n",
    "print(f\"Data dim: {data.shape}\")\n"
   ]
  },
  {
   "cell_type": "code",
   "execution_count": 9,
   "metadata": {},
   "outputs": [],
   "source": [
    "scalar = StandardScaler()\n",
    "data = scalar.fit_transform(data.drop(columns=['class']))\n",
    "data = pd.DataFrame(data)"
   ]
  },
  {
   "cell_type": "code",
   "execution_count": 11,
   "metadata": {},
   "outputs": [],
   "source": [
    "def CNN_GRU(self: nn.Module):\n",
    "    def __init__(self):\n",
    "        super().__init__\n",
    "        self.conv1 = nn.Conv1d(166, 64, 3, padding=1)\n",
    "        self.bn1 = nn.BatchNorm1d(64)\n",
    "        self.conv2 = nn.Conv1d(64, 128, 3, padding=1)\n",
    "        self.bn2 = nn.BatchNorm1d(128)\n",
    "        self.maxpool = nn.MaxPool1d(2)\n",
    "\n",
    "        #GRU layer\n",
    "        self.gru = nn.GRU(128, 128, batch_first=True, bidirectional=True)\n",
    "\n",
    "        # Fully connected layers\n",
    "        self.fc = nn.Linear(256, 1)  # 128 * 2 because bidirectional GRU\n",
    "        self.dropout = nn.Dropout(0.5)\n",
    "        \n",
    "        \n",
    "\n",
    "    def forward(self, x):\n",
    "        # CNN feature extraction\n",
    "        x = self.relu(self.bn1(self.conv1(x)))\n",
    "        x = self.relu(self.bn2(self.conv2(x)))\n",
    "        x = self.maxpool(x)  # Reduce sequence length\n",
    "\n",
    "        # Reshape for GRU (batch_size, seq_len, input_size)\n",
    "        x = x.permute(0, 2, 1)  # Convert (batch, channels, seq_len) → (batch, seq_len, channels)\n",
    "\n",
    "        # GRU processing\n",
    "        x, _ = self.gru(x)\n",
    "\n",
    "        # Take the last hidden state\n",
    "        x = x[:, -1, :]\n",
    "\n",
    "        # Fully connected layer\n",
    "        x = self.fc(self.dropout(x))\n",
    "\n",
    "        return x  # No sigmoid applied, use BCEWithLogitsLoss() for stability"
   ]
  },
  {
   "cell_type": "code",
   "execution_count": null,
   "metadata": {},
   "outputs": [],
   "source": [
    "def contrastive_loss(self, z_i, z_j, z_k):\n",
    "    \"\"\"\n",
    "    Compute contrastive loss as defined in the paper:\n",
    "    L = -log(exp(sim(z_i, z_j)/τ) / (exp(sim(z_i, z_j)/τ) + exp(sim(z_i, z_k)/τ)))\n",
    "    \n",
    "    :param z_i: Anchor feature vector representation\n",
    "    :param z_j: Positive sample feature vector representation\n",
    "    :param z_k: Negative sample feature vector representation\n",
    "    :return: Contrastive loss value\n",
    "    \"\"\"\n",
    "    # Compute similarity between anchor and positive sample\n",
    "    sim_pos = cosine_similarity(z_i, z_j, dim=1) / self.temperature\n",
    "    \n",
    "    # Compute similarity between anchor and negative sample\n",
    "    sim_neg = cosine_similarity(z_i, z_k, dim=1) / self.temperature\n",
    "    \n",
    "    # Compute the numerator: exp(sim(z_i, z_j)/τ)\n",
    "    numerator = torch.exp(sim_pos)\n",
    "    \n",
    "    # Compute the denominator: exp(sim(z_i, z_j)/τ) + exp(sim(z_i, z_k)/τ)\n",
    "    denominator = numerator + torch.exp(sim_neg)\n",
    "    \n",
    "    # Compute the negative log-likelihood\n",
    "    loss = -torch.log(numerator / denominator)\n",
    "    \n",
    "    return loss.mean()\n",
    "\n",
    "def batch_contrastive_loss(self, features):\n",
    "    \"\"\"\n",
    "    Compute contrastive loss over a batch of features\n",
    "    \n",
    "    :param features: Tensor of transaction feature vectors\n",
    "    :return: Contrastive loss value\n",
    "    \"\"\"\n",
    "    batch_size = features.shape[0]\n",
    "\n",
    "    # Calculate similarity matrix\n",
    "    similarity_matrix = torch.matmul(features, features.t()) / self.temperature\n",
    "    \n",
    "    # Create mask for positive pairs (excluding self-similarity)\n",
    "    mask_positive = torch.eye(batch_size, dtype=torch.bool).to(features.device)\n",
    "    mask_positive = ~mask_positive\n",
    "    \n",
    "    # For each anchor, calculate the loss\n",
    "    total_loss = 0\n",
    "    for i in range(batch_size):\n",
    "        # Get similarities for current anchor\n",
    "        anchor_similarities = similarity_matrix[i]\n",
    "        \n",
    "        # Numerator: sum of exp(sim(z_i, z_j)/τ) for all positives\n",
    "        numerator = torch.exp(anchor_similarities[mask_positive[i]])\n",
    "        \n",
    "        # Denominator: sum of exp(sim(z_i, z_k)/τ) for all samples\n",
    "        denominator = torch.sum(torch.exp(anchor_similarities)) - torch.exp(anchor_similarities[i])\n",
    "        \n",
    "        # Loss for this anchor\n",
    "        anchor_loss = -torch.log(numerator / denominator)\n",
    "        total_loss += anchor_loss.mean()\n",
    "    \n",
    "    return total_loss / batch_size"
   ]
  },
  {
   "cell_type": "code",
   "execution_count": 10,
   "metadata": {},
   "outputs": [
    {
     "name": "stdout",
     "output_type": "stream",
     "text": [
      "(407410, 167)\n"
     ]
    },
    {
     "ename": "ValueError",
     "evalue": "could not determine the shape of object type 'Series'",
     "output_type": "error",
     "traceback": [
      "\u001b[0;31m---------------------------------------------------------------------------\u001b[0m",
      "\u001b[0;31mValueError\u001b[0m                                Traceback (most recent call last)",
      "Cell \u001b[0;32mIn[10], line 4\u001b[0m\n\u001b[1;32m      1\u001b[0m \u001b[38;5;28mprint\u001b[39m(data\u001b[38;5;241m.\u001b[39mshape)\n\u001b[1;32m      3\u001b[0m \u001b[38;5;66;03m# Convert to PyTorch tensors\u001b[39;00m\n\u001b[0;32m----> 4\u001b[0m X_tensor \u001b[38;5;241m=\u001b[39m \u001b[43mtorch\u001b[49m\u001b[38;5;241;43m.\u001b[39;49m\u001b[43mtensor\u001b[49m\u001b[43m(\u001b[49m\u001b[43mdata\u001b[49m\u001b[43m[\u001b[49m\u001b[38;5;241;43m1\u001b[39;49m\u001b[43m:\u001b[49m\u001b[38;5;241;43m168\u001b[39;49m\u001b[43m]\u001b[49m\u001b[43m,\u001b[49m\u001b[43m \u001b[49m\u001b[43mdtype\u001b[49m\u001b[38;5;241;43m=\u001b[39;49m\u001b[43mtorch\u001b[49m\u001b[38;5;241;43m.\u001b[39;49m\u001b[43mfloat32\u001b[49m\u001b[43m)\u001b[49m\n\u001b[1;32m      5\u001b[0m y_tensor \u001b[38;5;241m=\u001b[39m torch\u001b[38;5;241m.\u001b[39mtensor(classes_df, dtype\u001b[38;5;241m=\u001b[39mtorch\u001b[38;5;241m.\u001b[39mfloat32)\n\u001b[1;32m      7\u001b[0m \u001b[38;5;66;03m# Create dataset and DataLoader\u001b[39;00m\n",
      "\u001b[0;31mValueError\u001b[0m: could not determine the shape of object type 'Series'"
     ]
    }
   ],
   "source": [
    "# Convert to PyTorch tensors\n",
    "X_tensor = torch.tensor(data, dtype=torch.float32)\n",
    "y_tensor = torch.tensor(classes_df, dtype=torch.float32)\n",
    "\n",
    "# Create dataset and DataLoader\n",
    "dataset = TensorDataset(X_tensor, y_tensor)\n",
    "train_loader = DataLoader(dataset, batch_size=32, shuffle=True)\n"
   ]
  },
  {
   "cell_type": "code",
   "execution_count": null,
   "metadata": {},
   "outputs": [],
   "source": [
    "import torch.optim as optim\n",
    "\n",
    "# Initialize model, loss, optimizer\n",
    "device = torch.device(\"cuda\" if torch.cuda.is_available() else \"cpu\")\n",
    "model = CNN_GRU().to(device)\n",
    "criterion = nn.BCEWithLogitsLoss()  # More stable than Sigmoid+BCELoss\n",
    "optimizer = optim.Adam(model.parameters(), lr=0.001)\n",
    "\n",
    "# Training loop\n",
    "num_epochs = 10\n",
    "for epoch in range(num_epochs):\n",
    "    model.train()\n",
    "    total_loss = 0\n",
    "\n",
    "    for batch in train_loader:\n",
    "        X_batch, y_batch = batch\n",
    "        X_batch, y_batch = X_batch.to(device), y_batch.to(device)\n",
    "\n",
    "        optimizer.zero_grad()\n",
    "        outputs = model(X_batch).squeeze()\n",
    "        \n",
    "        loss = criterion(outputs, y_batch)\n",
    "        loss.backward()\n",
    "        optimizer.step()\n",
    "\n",
    "        total_loss += loss.item()\n",
    "\n",
    "    print(f\"Epoch [{epoch+1}/{num_epochs}], Loss: {total_loss / len(train_loader):.4f}\")\n"
   ]
  }
 ],
 "metadata": {
  "kernelspec": {
   "display_name": "venv",
   "language": "python",
   "name": "python3"
  },
  "language_info": {
   "codemirror_mode": {
    "name": "ipython",
    "version": 3
   },
   "file_extension": ".py",
   "mimetype": "text/x-python",
   "name": "python",
   "nbconvert_exporter": "python",
   "pygments_lexer": "ipython3",
   "version": "3.12.5"
  }
 },
 "nbformat": 4,
 "nbformat_minor": 2
}
