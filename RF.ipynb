{
 "cells": [
  {
   "cell_type": "code",
   "execution_count": 1,
   "metadata": {},
   "outputs": [],
   "source": [
    "from torch import nn\n",
    "import torch\n",
    "\n",
    "from sklearn.ensemble import RandomForestClassifier\n",
    "from sklearn.model_selection import train_test_split\n",
    "from sklearn.metrics import accuracy_score\n",
    "from sklearn.preprocessing import normalize\n",
    "\n",
    "import matplotlib.pyplot as plt\n",
    "import pandas as pd\n",
    "import numpy as np"
   ]
  },
  {
   "cell_type": "code",
   "execution_count": 2,
   "metadata": {},
   "outputs": [
    {
     "name": "stderr",
     "output_type": "stream",
     "text": [
      "/Library/Frameworks/Python.framework/Versions/3.12/lib/python3.12/site-packages/tqdm/auto.py:21: TqdmWarning: IProgress not found. Please update jupyter and ipywidgets. See https://ipywidgets.readthedocs.io/en/stable/user_install.html\n",
      "  from .autonotebook import tqdm as notebook_tqdm\n"
     ]
    },
    {
     "name": "stdout",
     "output_type": "stream",
     "text": [
      "Path to dataset files: /Users/anatol/.cache/kagglehub/datasets/ellipticco/elliptic-data-set/versions/1\n"
     ]
    }
   ],
   "source": [
    "## Downloading the database\n",
    "import kagglehub\n",
    "\n",
    "\n",
    "# Download latest version\n",
    "path = kagglehub.dataset_download(\"ellipticco/elliptic-data-set\")\n",
    "\n",
    "print(\"Path to dataset files:\", path)"
   ]
  },
  {
   "cell_type": "code",
   "execution_count": 3,
   "metadata": {},
   "outputs": [
    {
     "name": "stdout",
     "output_type": "stream",
     "text": [
      "        txId    class\n",
      "0  230425980  unknown\n",
      "1    5530458  unknown\n",
      "2  232022460  unknown\n",
      "3  232438397        2\n",
      "4  230460314  unknown\n",
      "\n",
      "   230425980  1  -0.1714692896288031  -0.18466755143291433  \\\n",
      "0    5530458  1            -0.171484             -0.184668   \n",
      "1  232022460  1            -0.172107             -0.184668   \n",
      "2  232438397  1             0.163054              1.963790   \n",
      "3  230460314  1             1.011523             -0.081127   \n",
      "4  230459870  1             0.961040             -0.081127   \n",
      "\n",
      "   -1.2013688016765636  -0.12196959975910057  -0.04387454791734898  \\\n",
      "0            -1.201369             -0.121970             -0.043875   \n",
      "1            -1.201369             -0.121970             -0.043875   \n",
      "2            -0.646376             12.409294             -0.063725   \n",
      "3            -1.201369              1.153668              0.333276   \n",
      "4            -1.201369              1.303743              0.333276   \n",
      "\n",
      "   -0.11300200928476244  -0.06158379407303222  -0.16209679981659642  ...  \\\n",
      "0             -0.113002             -0.061584             -0.162112  ...   \n",
      "1             -0.113002             -0.061584             -0.162749  ...   \n",
      "2              9.782742             12.414558             -0.163645  ...   \n",
      "3              1.312656             -0.061584             -0.163523  ...   \n",
      "4              1.480381             -0.061584             -0.163577  ...   \n",
      "\n",
      "   -0.5621534802884299  -0.6009988905192808  1.4613303209554889  \\\n",
      "0             0.947382             0.673103           -0.979074   \n",
      "1             0.670883             0.439728           -0.979074   \n",
      "2            -0.577099            -0.613614            0.241128   \n",
      "3            -0.511871            -0.400422            0.517257   \n",
      "4            -0.504702            -0.422589           -0.226790   \n",
      "\n",
      "   1.4613689382001922  0.01827940003744589  -0.0874901561101501  \\\n",
      "0           -0.978556             0.018279            -0.087490   \n",
      "1           -0.978556            -0.098889            -0.106715   \n",
      "2            0.241406             1.072793             0.085530   \n",
      "3            0.579382             0.018279             0.277775   \n",
      "4           -0.117629             0.018279             0.277775   \n",
      "\n",
      "   -0.13115530389558736  -0.09752359377152515  -0.12061340670311574  \\\n",
      "0             -0.131155             -0.097524             -0.120613   \n",
      "1             -0.131155             -0.183671             -0.120613   \n",
      "2             -0.131155              0.677799             -0.120613   \n",
      "3              0.326394              1.293750              0.178136   \n",
      "4              0.413931              1.149556             -0.696053   \n",
      "\n",
      "   -0.11979245961251665  \n",
      "0             -0.119792  \n",
      "1             -0.119792  \n",
      "2             -0.119792  \n",
      "3              0.179117  \n",
      "4             -0.695540  \n",
      "\n",
      "[5 rows x 167 columns]\n",
      "\n",
      "       txId1      txId2\n",
      "0  230425980    5530458\n",
      "1  232022460  232438397\n",
      "2  230460314  230459870\n",
      "3  230333930  230595899\n",
      "4  232013274  232029206\n"
     ]
    }
   ],
   "source": [
    "classes_df = pd.read_csv(path + \"/elliptic_bitcoin_dataset/elliptic_txs_classes.csv\")\n",
    "features_df = pd.read_csv(path + \"/elliptic_bitcoin_dataset/elliptic_txs_features.csv\")\n",
    "edge_df = pd.read_csv(path + \"/elliptic_bitcoin_dataset/elliptic_txs_edgelist.csv\")\n",
    "\n",
    "print(classes_df.head(), end=\"\\n\\n\")\n",
    "print(features_df.head(), end=\"\\n\\n\")\n",
    "print(edge_df.head())"
   ]
  },
  {
   "cell_type": "code",
   "execution_count": 4,
   "metadata": {},
   "outputs": [
    {
     "name": "stdout",
     "output_type": "stream",
     "text": [
      "Index(['230425980', '1', '-0.1714692896288031', '-0.18466755143291433',\n",
      "       '-1.2013688016765636', '-0.12196959975910057', '-0.04387454791734898',\n",
      "       '-0.11300200928476244', '-0.06158379407303222', '-0.16209679981659642',\n",
      "       ...\n",
      "       '-0.5621534802884299', '-0.6009988905192808', '1.4613303209554889',\n",
      "       '1.4613689382001922', '0.01827940003744589', '-0.0874901561101501',\n",
      "       '-0.13115530389558736', '-0.09752359377152515', '-0.12061340670311574',\n",
      "       '-0.11979245961251665'],\n",
      "      dtype='object', length=167)\n",
      "(203769, 2)\n",
      "(203768, 167)\n"
     ]
    }
   ],
   "source": [
    "print(features_df.columns)\n",
    "print(classes_df.shape)\n",
    "print(features_df.shape)"
   ]
  },
  {
   "cell_type": "code",
   "execution_count": 9,
   "metadata": {},
   "outputs": [
    {
     "name": "stdout",
     "output_type": "stream",
     "text": [
      "(203768,)\n",
      "(203768, 95)\n",
      "(203768, 167)\n"
     ]
    }
   ],
   "source": [
    "X = features_df.iloc[:, 0:95]\n",
    "y = classes_df[0:-1][\"class\"]\n",
    "print(y.shape)\n",
    "print(X.shape)\n",
    "print(features_df.shape)"
   ]
  },
  {
   "cell_type": "code",
   "execution_count": 6,
   "metadata": {},
   "outputs": [
    {
     "name": "stdout",
     "output_type": "stream",
     "text": [
      "Using device: mps\n"
     ]
    }
   ],
   "source": [
    "device = \"mps\" if torch.backends.mps.is_available() else \"cpu\"\n",
    "print(\"Using device:\", device)"
   ]
  },
  {
   "cell_type": "code",
   "execution_count": 7,
   "metadata": {},
   "outputs": [
    {
     "name": "stdout",
     "output_type": "stream",
     "text": [
      "Accuracy: 0.7655444864307798\n"
     ]
    }
   ],
   "source": [
    "EPOCHS = 30\n",
    "BATCH_SIZE = 64\n",
    "LEARNING_RATE = 0.001\n",
    "\n",
    "model = RandomForestClassifier(\n",
    "                                n_estimators=100,\n",
    "                                max_depth=50,\n",
    "                               )\n",
    "\n",
    "X_train, X_test, y_train, y_test = train_test_split(X, y, test_size=0.2)\n",
    "model.fit(X_train, y_train)\n",
    "y_pred = model.predict(X_test)\n",
    "\n",
    "print(\"Accuracy:\", accuracy_score(y_test, y_pred))\n"
   ]
  },
  {
   "cell_type": "code",
   "execution_count": null,
   "metadata": {},
   "outputs": [],
   "source": []
  }
 ],
 "metadata": {
  "kernelspec": {
   "display_name": "venv",
   "language": "python",
   "name": "python3"
  },
  "language_info": {
   "codemirror_mode": {
    "name": "ipython",
    "version": 3
   },
   "file_extension": ".py",
   "mimetype": "text/x-python",
   "name": "python",
   "nbconvert_exporter": "python",
   "pygments_lexer": "ipython3",
   "version": "3.12.5"
  }
 },
 "nbformat": 4,
 "nbformat_minor": 2
}
